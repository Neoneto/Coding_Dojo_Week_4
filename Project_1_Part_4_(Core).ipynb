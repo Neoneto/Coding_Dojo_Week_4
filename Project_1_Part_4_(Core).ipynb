{
  "nbformat": 4,
  "nbformat_minor": 0,
  "metadata": {
    "colab": {
      "name": "Copy of Project 1 - Part 4 (Core)",
      "provenance": [],
      "mount_file_id": "1gCLATdr0qDgwOqaUDIcuMgAfKH2g3E28",
      "authorship_tag": "ABX9TyPc+PHqiQrslgSV4d62QKaE",
      "include_colab_link": true
    },
    "kernelspec": {
      "name": "python3",
      "display_name": "Python 3"
    },
    "language_info": {
      "name": "python"
    }
  },
  "cells": [
    {
      "cell_type": "markdown",
      "metadata": {
        "id": "view-in-github",
        "colab_type": "text"
      },
      "source": [
        "<a href=\"https://colab.research.google.com/github/Neoneto/Coding_Dojo_Week_4/blob/main/Project_1_Part_4_(Core).ipynb\" target=\"_parent\"><img src=\"https://colab.research.google.com/assets/colab-badge.svg\" alt=\"Open In Colab\"/></a>"
      ]
    },
    {
      "cell_type": "markdown",
      "metadata": {
        "id": "R6F2ROxbbUrU"
      },
      "source": [
        "# Project 1 - Parts 1 and 2 \n",
        "Loading and Cleaning the Data \\\n",
        "Submitted by Kenneth Alaba\n",
        "\n"
      ]
    },
    {
      "cell_type": "markdown",
      "metadata": {
        "id": "kdYy-mGWbjvi"
      },
      "source": [
        "## Imports the necessary dataset as pandas dataframe\n"
      ]
    },
    {
      "cell_type": "code",
      "metadata": {
        "id": "YobroJmZbSAw"
      },
      "source": [
        "# Import the pandas library\n",
        "import pandas as pd"
      ],
      "execution_count": 1,
      "outputs": []
    },
    {
      "cell_type": "code",
      "metadata": {
        "colab": {
          "base_uri": "https://localhost:8080/",
          "height": 0
        },
        "id": "C-aOX0KSbpUz",
        "outputId": "5be0abeb-f58d-4a20-cf3c-138f272e1a4a"
      },
      "source": [
        "# Load the data\n",
        "\n",
        "## Mounting Google Drive\n",
        "from google.colab import drive\n",
        "drive.mount('/content/drive')\n",
        "\n",
        "## Opening the file\n",
        "filename = '/content/drive/My Drive/Coding Dojo/02 Week 2: Pandas/sales_predictions.csv'\n",
        "df_sales = pd.read_csv(filename)\n",
        "\n",
        "# Shows the head of the dataframe\n",
        "df_sales.head()"
      ],
      "execution_count": 2,
      "outputs": [
        {
          "output_type": "stream",
          "name": "stdout",
          "text": [
            "Mounted at /content/drive\n"
          ]
        },
        {
          "output_type": "execute_result",
          "data": {
            "text/html": [
              "<div>\n",
              "<style scoped>\n",
              "    .dataframe tbody tr th:only-of-type {\n",
              "        vertical-align: middle;\n",
              "    }\n",
              "\n",
              "    .dataframe tbody tr th {\n",
              "        vertical-align: top;\n",
              "    }\n",
              "\n",
              "    .dataframe thead th {\n",
              "        text-align: right;\n",
              "    }\n",
              "</style>\n",
              "<table border=\"1\" class=\"dataframe\">\n",
              "  <thead>\n",
              "    <tr style=\"text-align: right;\">\n",
              "      <th></th>\n",
              "      <th>Item_Identifier</th>\n",
              "      <th>Item_Weight</th>\n",
              "      <th>Item_Fat_Content</th>\n",
              "      <th>Item_Visibility</th>\n",
              "      <th>Item_Type</th>\n",
              "      <th>Item_MRP</th>\n",
              "      <th>Outlet_Identifier</th>\n",
              "      <th>Outlet_Establishment_Year</th>\n",
              "      <th>Outlet_Size</th>\n",
              "      <th>Outlet_Location_Type</th>\n",
              "      <th>Outlet_Type</th>\n",
              "      <th>Item_Outlet_Sales</th>\n",
              "    </tr>\n",
              "  </thead>\n",
              "  <tbody>\n",
              "    <tr>\n",
              "      <th>0</th>\n",
              "      <td>FDA15</td>\n",
              "      <td>9.30</td>\n",
              "      <td>Low Fat</td>\n",
              "      <td>0.016047</td>\n",
              "      <td>Dairy</td>\n",
              "      <td>249.8092</td>\n",
              "      <td>OUT049</td>\n",
              "      <td>1999</td>\n",
              "      <td>Medium</td>\n",
              "      <td>Tier 1</td>\n",
              "      <td>Supermarket Type1</td>\n",
              "      <td>3735.1380</td>\n",
              "    </tr>\n",
              "    <tr>\n",
              "      <th>1</th>\n",
              "      <td>DRC01</td>\n",
              "      <td>5.92</td>\n",
              "      <td>Regular</td>\n",
              "      <td>0.019278</td>\n",
              "      <td>Soft Drinks</td>\n",
              "      <td>48.2692</td>\n",
              "      <td>OUT018</td>\n",
              "      <td>2009</td>\n",
              "      <td>Medium</td>\n",
              "      <td>Tier 3</td>\n",
              "      <td>Supermarket Type2</td>\n",
              "      <td>443.4228</td>\n",
              "    </tr>\n",
              "    <tr>\n",
              "      <th>2</th>\n",
              "      <td>FDN15</td>\n",
              "      <td>17.50</td>\n",
              "      <td>Low Fat</td>\n",
              "      <td>0.016760</td>\n",
              "      <td>Meat</td>\n",
              "      <td>141.6180</td>\n",
              "      <td>OUT049</td>\n",
              "      <td>1999</td>\n",
              "      <td>Medium</td>\n",
              "      <td>Tier 1</td>\n",
              "      <td>Supermarket Type1</td>\n",
              "      <td>2097.2700</td>\n",
              "    </tr>\n",
              "    <tr>\n",
              "      <th>3</th>\n",
              "      <td>FDX07</td>\n",
              "      <td>19.20</td>\n",
              "      <td>Regular</td>\n",
              "      <td>0.000000</td>\n",
              "      <td>Fruits and Vegetables</td>\n",
              "      <td>182.0950</td>\n",
              "      <td>OUT010</td>\n",
              "      <td>1998</td>\n",
              "      <td>NaN</td>\n",
              "      <td>Tier 3</td>\n",
              "      <td>Grocery Store</td>\n",
              "      <td>732.3800</td>\n",
              "    </tr>\n",
              "    <tr>\n",
              "      <th>4</th>\n",
              "      <td>NCD19</td>\n",
              "      <td>8.93</td>\n",
              "      <td>Low Fat</td>\n",
              "      <td>0.000000</td>\n",
              "      <td>Household</td>\n",
              "      <td>53.8614</td>\n",
              "      <td>OUT013</td>\n",
              "      <td>1987</td>\n",
              "      <td>High</td>\n",
              "      <td>Tier 3</td>\n",
              "      <td>Supermarket Type1</td>\n",
              "      <td>994.7052</td>\n",
              "    </tr>\n",
              "  </tbody>\n",
              "</table>\n",
              "</div>"
            ],
            "text/plain": [
              "  Item_Identifier  Item_Weight  ...        Outlet_Type  Item_Outlet_Sales\n",
              "0           FDA15         9.30  ...  Supermarket Type1          3735.1380\n",
              "1           DRC01         5.92  ...  Supermarket Type2           443.4228\n",
              "2           FDN15        17.50  ...  Supermarket Type1          2097.2700\n",
              "3           FDX07        19.20  ...      Grocery Store           732.3800\n",
              "4           NCD19         8.93  ...  Supermarket Type1           994.7052\n",
              "\n",
              "[5 rows x 12 columns]"
            ]
          },
          "metadata": {},
          "execution_count": 2
        }
      ]
    },
    {
      "cell_type": "markdown",
      "metadata": {
        "id": "JyL69C4Dle9s"
      },
      "source": [
        "## Displays the information of the dataframe"
      ]
    },
    {
      "cell_type": "code",
      "metadata": {
        "colab": {
          "base_uri": "https://localhost:8080/"
        },
        "id": "z8ehlJmZjMw9",
        "outputId": "abe1f1b2-05cf-41f8-a778-ce2abad5a185"
      },
      "source": [
        "# Shows the info of the dataframe\n",
        "df_sales.info()"
      ],
      "execution_count": 3,
      "outputs": [
        {
          "output_type": "stream",
          "name": "stdout",
          "text": [
            "<class 'pandas.core.frame.DataFrame'>\n",
            "RangeIndex: 8523 entries, 0 to 8522\n",
            "Data columns (total 12 columns):\n",
            " #   Column                     Non-Null Count  Dtype  \n",
            "---  ------                     --------------  -----  \n",
            " 0   Item_Identifier            8523 non-null   object \n",
            " 1   Item_Weight                7060 non-null   float64\n",
            " 2   Item_Fat_Content           8523 non-null   object \n",
            " 3   Item_Visibility            8523 non-null   float64\n",
            " 4   Item_Type                  8523 non-null   object \n",
            " 5   Item_MRP                   8523 non-null   float64\n",
            " 6   Outlet_Identifier          8523 non-null   object \n",
            " 7   Outlet_Establishment_Year  8523 non-null   int64  \n",
            " 8   Outlet_Size                6113 non-null   object \n",
            " 9   Outlet_Location_Type       8523 non-null   object \n",
            " 10  Outlet_Type                8523 non-null   object \n",
            " 11  Item_Outlet_Sales          8523 non-null   float64\n",
            "dtypes: float64(4), int64(1), object(7)\n",
            "memory usage: 799.2+ KB\n"
          ]
        }
      ]
    },
    {
      "cell_type": "markdown",
      "metadata": {
        "id": "8gEl4TldReFg"
      },
      "source": [
        "From here, we can see the data type that each column contains. We can also see that two of the columns contain missing values."
      ]
    },
    {
      "cell_type": "markdown",
      "metadata": {
        "id": "0fShTDTDliid"
      },
      "source": [
        "## Displays the duplicated rows"
      ]
    },
    {
      "cell_type": "code",
      "metadata": {
        "colab": {
          "base_uri": "https://localhost:8080/",
          "height": 0
        },
        "id": "-u6IXJcklV9d",
        "outputId": "97f38472-f3a5-4217-de38-a300740f1eae"
      },
      "source": [
        "# Shows the duplicated rows of the dataframe\n",
        "df_sales[df_sales.duplicated()]"
      ],
      "execution_count": 4,
      "outputs": [
        {
          "output_type": "execute_result",
          "data": {
            "text/html": [
              "<div>\n",
              "<style scoped>\n",
              "    .dataframe tbody tr th:only-of-type {\n",
              "        vertical-align: middle;\n",
              "    }\n",
              "\n",
              "    .dataframe tbody tr th {\n",
              "        vertical-align: top;\n",
              "    }\n",
              "\n",
              "    .dataframe thead th {\n",
              "        text-align: right;\n",
              "    }\n",
              "</style>\n",
              "<table border=\"1\" class=\"dataframe\">\n",
              "  <thead>\n",
              "    <tr style=\"text-align: right;\">\n",
              "      <th></th>\n",
              "      <th>Item_Identifier</th>\n",
              "      <th>Item_Weight</th>\n",
              "      <th>Item_Fat_Content</th>\n",
              "      <th>Item_Visibility</th>\n",
              "      <th>Item_Type</th>\n",
              "      <th>Item_MRP</th>\n",
              "      <th>Outlet_Identifier</th>\n",
              "      <th>Outlet_Establishment_Year</th>\n",
              "      <th>Outlet_Size</th>\n",
              "      <th>Outlet_Location_Type</th>\n",
              "      <th>Outlet_Type</th>\n",
              "      <th>Item_Outlet_Sales</th>\n",
              "    </tr>\n",
              "  </thead>\n",
              "  <tbody>\n",
              "  </tbody>\n",
              "</table>\n",
              "</div>"
            ],
            "text/plain": [
              "Empty DataFrame\n",
              "Columns: [Item_Identifier, Item_Weight, Item_Fat_Content, Item_Visibility, Item_Type, Item_MRP, Outlet_Identifier, Outlet_Establishment_Year, Outlet_Size, Outlet_Location_Type, Outlet_Type, Item_Outlet_Sales]\n",
              "Index: []"
            ]
          },
          "metadata": {},
          "execution_count": 4
        }
      ]
    },
    {
      "cell_type": "markdown",
      "metadata": {
        "id": "L3dHmZfMRqKE"
      },
      "source": [
        "This tells us that the dataframe contains no duplicated rows."
      ]
    },
    {
      "cell_type": "markdown",
      "metadata": {
        "id": "FA8RkjRDl9xc"
      },
      "source": [
        "## Missing values"
      ]
    },
    {
      "cell_type": "code",
      "metadata": {
        "colab": {
          "base_uri": "https://localhost:8080/"
        },
        "id": "l9k6le3rlzKO",
        "outputId": "200de2b6-6f84-4956-fc05-6d1271b10ecf"
      },
      "source": [
        "# Shows how many missing values are in each columns\n",
        "df_sales.isna().sum()"
      ],
      "execution_count": 5,
      "outputs": [
        {
          "output_type": "execute_result",
          "data": {
            "text/plain": [
              "Item_Identifier                 0\n",
              "Item_Weight                  1463\n",
              "Item_Fat_Content                0\n",
              "Item_Visibility                 0\n",
              "Item_Type                       0\n",
              "Item_MRP                        0\n",
              "Outlet_Identifier               0\n",
              "Outlet_Establishment_Year       0\n",
              "Outlet_Size                  2410\n",
              "Outlet_Location_Type            0\n",
              "Outlet_Type                     0\n",
              "Item_Outlet_Sales               0\n",
              "dtype: int64"
            ]
          },
          "metadata": {},
          "execution_count": 5
        }
      ]
    },
    {
      "cell_type": "markdown",
      "metadata": {
        "id": "dWz9grz1RyLm"
      },
      "source": [
        "This tells us that only the columns 'Item_Weight' and 'Outlet_Size' has missing values which we will try to fill in the later parts."
      ]
    },
    {
      "cell_type": "markdown",
      "metadata": {
        "id": "yoznH0vwmnTG"
      },
      "source": [
        "## Dealing with missing values\n",
        "Since all the missing values are only in the columns of the Item_Weight  and Outlet_Size , we can easily fill those missing values by looking at other rows with the same Item_Identifier for the weight and same Outlet_Identifier for the outlet size and just copying their values. We can do this since both the Item_Identifier and the Outlet_Identifier are unique."
      ]
    },
    {
      "cell_type": "markdown",
      "metadata": {
        "id": "ll-1xUUdn1Ve"
      },
      "source": [
        "### Filling missing values in Item_Weight"
      ]
    },
    {
      "cell_type": "markdown",
      "metadata": {
        "id": "DOj9JasXSPrc"
      },
      "source": [
        "To fill the missing weights, we create a dictionary of the product identifier, which is unique, and its corresponding weight, using entries from other rows. We then map this dictionary to fill the missing values depending on the item identifier of the missing weight."
      ]
    },
    {
      "cell_type": "code",
      "metadata": {
        "id": "RKj7UbBClKvl"
      },
      "source": [
        "# Gets the set (unique values) of the product identifiers and its weight\n",
        "dict_weight = df_sales[['Item_Identifier','Item_Weight']].dropna()\n",
        "dict_weight = dict_weight.drop_duplicates()\n",
        "\n",
        "# Creates a dictionary from the set\n",
        "dict_weight = dict_weight.set_index('Item_Identifier')['Item_Weight'].to_dict()\n"
      ],
      "execution_count": 6,
      "outputs": []
    },
    {
      "cell_type": "code",
      "metadata": {
        "colab": {
          "base_uri": "https://localhost:8080/"
        },
        "id": "_HldlZ-YuCsB",
        "outputId": "1817ff04-2492-46df-98cd-d03e85b9fafe"
      },
      "source": [
        "# Fills the missing values in Item_Weight using the dictionary\n",
        "df_sales.Item_Weight = df_sales.Item_Weight.fillna(df_sales.Item_Identifier.map(dict_weight))\n",
        "\n",
        "# Checks whether there are still missing values\n",
        "df_sales.info()"
      ],
      "execution_count": 7,
      "outputs": [
        {
          "output_type": "stream",
          "name": "stdout",
          "text": [
            "<class 'pandas.core.frame.DataFrame'>\n",
            "RangeIndex: 8523 entries, 0 to 8522\n",
            "Data columns (total 12 columns):\n",
            " #   Column                     Non-Null Count  Dtype  \n",
            "---  ------                     --------------  -----  \n",
            " 0   Item_Identifier            8523 non-null   object \n",
            " 1   Item_Weight                8519 non-null   float64\n",
            " 2   Item_Fat_Content           8523 non-null   object \n",
            " 3   Item_Visibility            8523 non-null   float64\n",
            " 4   Item_Type                  8523 non-null   object \n",
            " 5   Item_MRP                   8523 non-null   float64\n",
            " 6   Outlet_Identifier          8523 non-null   object \n",
            " 7   Outlet_Establishment_Year  8523 non-null   int64  \n",
            " 8   Outlet_Size                6113 non-null   object \n",
            " 9   Outlet_Location_Type       8523 non-null   object \n",
            " 10  Outlet_Type                8523 non-null   object \n",
            " 11  Item_Outlet_Sales          8523 non-null   float64\n",
            "dtypes: float64(4), int64(1), object(7)\n",
            "memory usage: 799.2+ KB\n"
          ]
        }
      ]
    },
    {
      "cell_type": "markdown",
      "metadata": {
        "id": "_wuwVfkOTYGb"
      },
      "source": [
        "We can see that there are still missing values in the Item_Weight column."
      ]
    },
    {
      "cell_type": "code",
      "metadata": {
        "colab": {
          "base_uri": "https://localhost:8080/",
          "height": 0
        },
        "id": "maqO2qR_wJUg",
        "outputId": "a8ed57b4-1973-4828-8e23-ca07fe1c155b"
      },
      "source": [
        "# Obtain the rows with still missing weights\n",
        "missing_weight = df_sales[df_sales[['Item_Identifier','Item_Weight']].isnull().any(axis=1)]\n",
        "missing_weight"
      ],
      "execution_count": 8,
      "outputs": [
        {
          "output_type": "execute_result",
          "data": {
            "text/html": [
              "<div>\n",
              "<style scoped>\n",
              "    .dataframe tbody tr th:only-of-type {\n",
              "        vertical-align: middle;\n",
              "    }\n",
              "\n",
              "    .dataframe tbody tr th {\n",
              "        vertical-align: top;\n",
              "    }\n",
              "\n",
              "    .dataframe thead th {\n",
              "        text-align: right;\n",
              "    }\n",
              "</style>\n",
              "<table border=\"1\" class=\"dataframe\">\n",
              "  <thead>\n",
              "    <tr style=\"text-align: right;\">\n",
              "      <th></th>\n",
              "      <th>Item_Identifier</th>\n",
              "      <th>Item_Weight</th>\n",
              "      <th>Item_Fat_Content</th>\n",
              "      <th>Item_Visibility</th>\n",
              "      <th>Item_Type</th>\n",
              "      <th>Item_MRP</th>\n",
              "      <th>Outlet_Identifier</th>\n",
              "      <th>Outlet_Establishment_Year</th>\n",
              "      <th>Outlet_Size</th>\n",
              "      <th>Outlet_Location_Type</th>\n",
              "      <th>Outlet_Type</th>\n",
              "      <th>Item_Outlet_Sales</th>\n",
              "    </tr>\n",
              "  </thead>\n",
              "  <tbody>\n",
              "    <tr>\n",
              "      <th>927</th>\n",
              "      <td>FDN52</td>\n",
              "      <td>NaN</td>\n",
              "      <td>Regular</td>\n",
              "      <td>0.130933</td>\n",
              "      <td>Frozen Foods</td>\n",
              "      <td>86.9198</td>\n",
              "      <td>OUT027</td>\n",
              "      <td>1985</td>\n",
              "      <td>Medium</td>\n",
              "      <td>Tier 3</td>\n",
              "      <td>Supermarket Type3</td>\n",
              "      <td>1569.9564</td>\n",
              "    </tr>\n",
              "    <tr>\n",
              "      <th>1922</th>\n",
              "      <td>FDK57</td>\n",
              "      <td>NaN</td>\n",
              "      <td>Low Fat</td>\n",
              "      <td>0.079904</td>\n",
              "      <td>Snack Foods</td>\n",
              "      <td>120.0440</td>\n",
              "      <td>OUT027</td>\n",
              "      <td>1985</td>\n",
              "      <td>Medium</td>\n",
              "      <td>Tier 3</td>\n",
              "      <td>Supermarket Type3</td>\n",
              "      <td>4434.2280</td>\n",
              "    </tr>\n",
              "    <tr>\n",
              "      <th>4187</th>\n",
              "      <td>FDE52</td>\n",
              "      <td>NaN</td>\n",
              "      <td>Regular</td>\n",
              "      <td>0.029742</td>\n",
              "      <td>Dairy</td>\n",
              "      <td>88.9514</td>\n",
              "      <td>OUT027</td>\n",
              "      <td>1985</td>\n",
              "      <td>Medium</td>\n",
              "      <td>Tier 3</td>\n",
              "      <td>Supermarket Type3</td>\n",
              "      <td>3453.5046</td>\n",
              "    </tr>\n",
              "    <tr>\n",
              "      <th>5022</th>\n",
              "      <td>FDQ60</td>\n",
              "      <td>NaN</td>\n",
              "      <td>Regular</td>\n",
              "      <td>0.191501</td>\n",
              "      <td>Baking Goods</td>\n",
              "      <td>121.2098</td>\n",
              "      <td>OUT019</td>\n",
              "      <td>1985</td>\n",
              "      <td>Small</td>\n",
              "      <td>Tier 1</td>\n",
              "      <td>Grocery Store</td>\n",
              "      <td>120.5098</td>\n",
              "    </tr>\n",
              "  </tbody>\n",
              "</table>\n",
              "</div>"
            ],
            "text/plain": [
              "     Item_Identifier  Item_Weight  ...        Outlet_Type  Item_Outlet_Sales\n",
              "927            FDN52          NaN  ...  Supermarket Type3          1569.9564\n",
              "1922           FDK57          NaN  ...  Supermarket Type3          4434.2280\n",
              "4187           FDE52          NaN  ...  Supermarket Type3          3453.5046\n",
              "5022           FDQ60          NaN  ...      Grocery Store           120.5098\n",
              "\n",
              "[4 rows x 12 columns]"
            ]
          },
          "metadata": {},
          "execution_count": 8
        }
      ]
    },
    {
      "cell_type": "code",
      "metadata": {
        "colab": {
          "base_uri": "https://localhost:8080/"
        },
        "id": "tcbJe_s--JA_",
        "outputId": "ea0aa648-acb4-4ccc-e4fc-874aeb367649"
      },
      "source": [
        "# Checks whether those Item_Identifier really doesn't appear in the dataframe\n",
        "# with its corresponding weight.\n",
        "for identifier in missing_weight['Item_Identifier']:\n",
        "  print(identifier in df_sales[['Item_Identifier','Item_Weight']].dropna().drop_duplicates())"
      ],
      "execution_count": 9,
      "outputs": [
        {
          "output_type": "stream",
          "name": "stdout",
          "text": [
            "False\n",
            "False\n",
            "False\n",
            "False\n"
          ]
        }
      ]
    },
    {
      "cell_type": "markdown",
      "metadata": {
        "id": "j9y93xfcT7ip"
      },
      "source": [
        "Since we can't use other entries to readily fill them, we will deal with them later."
      ]
    },
    {
      "cell_type": "markdown",
      "metadata": {
        "id": "bbPMjiGA0euP"
      },
      "source": [
        "### Filling missing values in Outlet_Size"
      ]
    },
    {
      "cell_type": "markdown",
      "metadata": {
        "id": "xl8ktPhXUFzY"
      },
      "source": [
        "Similar with the above method, we create a dictionary of Outlet_Identifier and its corresponding Outlet_Size and use that dictionary to fill the missing values."
      ]
    },
    {
      "cell_type": "code",
      "metadata": {
        "id": "4Nj0CiWR0ilU"
      },
      "source": [
        "# Create the dictionary from unique values in the Outlet_Identifier and Outlet_Size columns\n",
        "dict_size = df_sales[['Outlet_Identifier','Outlet_Size']].dropna()\n",
        "dict_size = dict_size.drop_duplicates()\n",
        "dict_size = dict_size.set_index('Outlet_Identifier')['Outlet_Size'].to_dict()"
      ],
      "execution_count": 10,
      "outputs": []
    },
    {
      "cell_type": "code",
      "metadata": {
        "colab": {
          "base_uri": "https://localhost:8080/"
        },
        "id": "ZL4ViP2200Uy",
        "outputId": "03fd2226-6014-489d-8fcd-5e2191f96f03"
      },
      "source": [
        "# Fills the missing values depending on the Outlet_Identifier using the dictionary\n",
        "df_sales.Outlet_Size = df_sales.Outlet_Size.fillna(df_sales.Outlet_Identifier.map(dict_size))\n",
        "\n",
        "# Checks whether there are still missing values\n",
        "df_sales.info()"
      ],
      "execution_count": 11,
      "outputs": [
        {
          "output_type": "stream",
          "name": "stdout",
          "text": [
            "<class 'pandas.core.frame.DataFrame'>\n",
            "RangeIndex: 8523 entries, 0 to 8522\n",
            "Data columns (total 12 columns):\n",
            " #   Column                     Non-Null Count  Dtype  \n",
            "---  ------                     --------------  -----  \n",
            " 0   Item_Identifier            8523 non-null   object \n",
            " 1   Item_Weight                8519 non-null   float64\n",
            " 2   Item_Fat_Content           8523 non-null   object \n",
            " 3   Item_Visibility            8523 non-null   float64\n",
            " 4   Item_Type                  8523 non-null   object \n",
            " 5   Item_MRP                   8523 non-null   float64\n",
            " 6   Outlet_Identifier          8523 non-null   object \n",
            " 7   Outlet_Establishment_Year  8523 non-null   int64  \n",
            " 8   Outlet_Size                6113 non-null   object \n",
            " 9   Outlet_Location_Type       8523 non-null   object \n",
            " 10  Outlet_Type                8523 non-null   object \n",
            " 11  Item_Outlet_Sales          8523 non-null   float64\n",
            "dtypes: float64(4), int64(1), object(7)\n",
            "memory usage: 799.2+ KB\n"
          ]
        }
      ]
    },
    {
      "cell_type": "markdown",
      "metadata": {
        "id": "aJG7AAN4Uzsj"
      },
      "source": [
        "We can see that there are still missing values, in fact, the dictionary wasn't able to fill any missing values in the Outlet_Size column because those Outlet_Identifier never appeared in the dataframe with its corresponding size as shown using the code below."
      ]
    },
    {
      "cell_type": "code",
      "metadata": {
        "id": "VfplSM-1-6qL"
      },
      "source": [
        "# Isolates the columns with missing Outlet_Size\n",
        "missing_size = df_sales[df_sales[['Outlet_Identifier','Outlet_Size']].isnull().any(axis=1)]\n",
        "missing_size = missing_size[['Outlet_Identifier','Outlet_Size']].drop_duplicates()"
      ],
      "execution_count": 12,
      "outputs": []
    },
    {
      "cell_type": "code",
      "metadata": {
        "colab": {
          "base_uri": "https://localhost:8080/"
        },
        "id": "_jGQhFPF_1Ro",
        "outputId": "6ec9f8f2-00e2-43a9-865f-6a2d6034499a"
      },
      "source": [
        "# Checks if the Outlet_Identifier appeared in the dataframe with its Outlet_Size\n",
        "for identifier in missing_size['Outlet_Identifier']:\n",
        "  print(identifier in df_sales[['Outlet_Identifier','Outlet_Size']].dropna().drop_duplicates())"
      ],
      "execution_count": 13,
      "outputs": [
        {
          "output_type": "stream",
          "name": "stdout",
          "text": [
            "False\n",
            "False\n",
            "False\n"
          ]
        }
      ]
    },
    {
      "cell_type": "markdown",
      "metadata": {
        "id": "JsHy-hUTao22"
      },
      "source": [
        "### Filling further missing values"
      ]
    },
    {
      "cell_type": "markdown",
      "metadata": {
        "id": "nAMcmpm4VUR9"
      },
      "source": [
        "Since we don't know what we wan't to extract from the dataframe yet, I think that the best way to deal with those remaining missing values is to leave them as is for now until later where we know what we want to do and can determine the most appropriate method to fill them. However, for the sake of this excercise, since the Item_Weight is numerical, the best way to fill them is by using the mean of the column(while ignoring the missing values). As for the Outlet_Size, since it is categorical, the best way is to fill it with the most frequent value in the column."
      ]
    },
    {
      "cell_type": "code",
      "metadata": {
        "id": "z3iPaPTC3inf"
      },
      "source": [
        "# Obtain the most frequent value in the Outlet_Size column\n",
        "frequent_size = df_sales.Outlet_Size.mode()[0]"
      ],
      "execution_count": 14,
      "outputs": []
    },
    {
      "cell_type": "code",
      "metadata": {
        "id": "TtFlogM935qN"
      },
      "source": [
        "# Fill the missing values in the Outlet_Size using that most frequent value\n",
        "df_sales.Outlet_Size = df_sales.Outlet_Size.fillna(frequent_size)"
      ],
      "execution_count": 15,
      "outputs": []
    },
    {
      "cell_type": "code",
      "metadata": {
        "id": "qY870w6NWWhG"
      },
      "source": [
        "# Calculate the mean weight of the items\n",
        "mean_weight = df_sales['Item_Weight'].mean(skipna=True) # Ignores missing values\n",
        "\n",
        "# Fills missing values using the mean weight\n",
        "df_sales.Item_Weight = df_sales.Item_Weight.fillna(mean_weight)"
      ],
      "execution_count": 16,
      "outputs": []
    },
    {
      "cell_type": "code",
      "metadata": {
        "colab": {
          "base_uri": "https://localhost:8080/"
        },
        "id": "_pcM0KjgWno4",
        "outputId": "742d5749-1f7b-4bbf-bef8-591683901450"
      },
      "source": [
        "# Checks that there are no more missing values\n",
        "df_sales.isna().sum()"
      ],
      "execution_count": 17,
      "outputs": [
        {
          "output_type": "execute_result",
          "data": {
            "text/plain": [
              "Item_Identifier              0\n",
              "Item_Weight                  0\n",
              "Item_Fat_Content             0\n",
              "Item_Visibility              0\n",
              "Item_Type                    0\n",
              "Item_MRP                     0\n",
              "Outlet_Identifier            0\n",
              "Outlet_Establishment_Year    0\n",
              "Outlet_Size                  0\n",
              "Outlet_Location_Type         0\n",
              "Outlet_Type                  0\n",
              "Item_Outlet_Sales            0\n",
              "dtype: int64"
            ]
          },
          "metadata": {},
          "execution_count": 17
        }
      ]
    },
    {
      "cell_type": "markdown",
      "metadata": {
        "id": "0W0b7DtxWzmj"
      },
      "source": [
        "## Fixing inconsistent categories"
      ]
    },
    {
      "cell_type": "markdown",
      "metadata": {
        "id": "7xEjgLWKXCEb"
      },
      "source": [
        "By manual inspection, we can see that the columns that can possibly suffer from inconsistency are the categorical ones which are listed in the list below."
      ]
    },
    {
      "cell_type": "code",
      "metadata": {
        "id": "WN4ke46n5e6P"
      },
      "source": [
        "# Creates a list of the columns with possible inconsistency\n",
        "categorical = ['Item_Fat_Content', 'Item_Type', 'Outlet_Size', 'Outlet_Location_Type', 'Outlet_Type']"
      ],
      "execution_count": 18,
      "outputs": []
    },
    {
      "cell_type": "code",
      "metadata": {
        "colab": {
          "base_uri": "https://localhost:8080/"
        },
        "id": "XQ4M0sDr59LM",
        "outputId": "344c39b6-18c7-4987-f1ad-b73e8730a0d4"
      },
      "source": [
        "# Shows the unique values in each column of interest\n",
        "for column in categorical:\n",
        "  print(df_sales[column].drop_duplicates())"
      ],
      "execution_count": 19,
      "outputs": [
        {
          "output_type": "stream",
          "name": "stdout",
          "text": [
            "0     Low Fat\n",
            "1     Regular\n",
            "27    low fat\n",
            "45         LF\n",
            "81        reg\n",
            "Name: Item_Fat_Content, dtype: object\n",
            "0                      Dairy\n",
            "1                Soft Drinks\n",
            "2                       Meat\n",
            "3      Fruits and Vegetables\n",
            "4                  Household\n",
            "5               Baking Goods\n",
            "6                Snack Foods\n",
            "8               Frozen Foods\n",
            "15                 Breakfast\n",
            "16        Health and Hygiene\n",
            "18               Hard Drinks\n",
            "29                    Canned\n",
            "33                    Breads\n",
            "72             Starchy Foods\n",
            "139                   Others\n",
            "231                  Seafood\n",
            "Name: Item_Type, dtype: object\n",
            "0     Medium\n",
            "4       High\n",
            "11     Small\n",
            "Name: Outlet_Size, dtype: object\n",
            "0    Tier 1\n",
            "1    Tier 3\n",
            "8    Tier 2\n",
            "Name: Outlet_Location_Type, dtype: object\n",
            "0    Supermarket Type1\n",
            "1    Supermarket Type2\n",
            "3        Grocery Store\n",
            "7    Supermarket Type3\n",
            "Name: Outlet_Type, dtype: object\n"
          ]
        }
      ]
    },
    {
      "cell_type": "markdown",
      "metadata": {
        "id": "k6Myc5W7XkLB"
      },
      "source": [
        "By manual inspection, we can see that only the column Item_Fat_Content has inconsistencies where some Low Fat values are keyed in as either LF or low fat and Regular as reg. "
      ]
    },
    {
      "cell_type": "code",
      "metadata": {
        "id": "EbhdUj-b600Y"
      },
      "source": [
        "# Replaces inconsistencies in Item_Fat_Content column with their proper value\n",
        "df_sales = df_sales.replace({'Item_Fat_Content': {'LF': 'Low Fat',\n",
        "                                         'low fat': 'Low Fat',\n",
        "                                         'reg': 'Regular'}})\n"
      ],
      "execution_count": 20,
      "outputs": []
    },
    {
      "cell_type": "code",
      "metadata": {
        "colab": {
          "base_uri": "https://localhost:8080/"
        },
        "id": "TSDiP-BY7meL",
        "outputId": "814da58d-295a-439d-834e-8579c567a97a"
      },
      "source": [
        "# Checks that there are no more inconsistencies\n",
        "for column in categorical:\n",
        "  print(df_sales[column].drop_duplicates())"
      ],
      "execution_count": 21,
      "outputs": [
        {
          "output_type": "stream",
          "name": "stdout",
          "text": [
            "0    Low Fat\n",
            "1    Regular\n",
            "Name: Item_Fat_Content, dtype: object\n",
            "0                      Dairy\n",
            "1                Soft Drinks\n",
            "2                       Meat\n",
            "3      Fruits and Vegetables\n",
            "4                  Household\n",
            "5               Baking Goods\n",
            "6                Snack Foods\n",
            "8               Frozen Foods\n",
            "15                 Breakfast\n",
            "16        Health and Hygiene\n",
            "18               Hard Drinks\n",
            "29                    Canned\n",
            "33                    Breads\n",
            "72             Starchy Foods\n",
            "139                   Others\n",
            "231                  Seafood\n",
            "Name: Item_Type, dtype: object\n",
            "0     Medium\n",
            "4       High\n",
            "11     Small\n",
            "Name: Outlet_Size, dtype: object\n",
            "0    Tier 1\n",
            "1    Tier 3\n",
            "8    Tier 2\n",
            "Name: Outlet_Location_Type, dtype: object\n",
            "0    Supermarket Type1\n",
            "1    Supermarket Type2\n",
            "3        Grocery Store\n",
            "7    Supermarket Type3\n",
            "Name: Outlet_Type, dtype: object\n"
          ]
        }
      ]
    },
    {
      "cell_type": "markdown",
      "metadata": {
        "id": "uQBbAycMYTCl"
      },
      "source": [
        "## Summarize numerical columns"
      ]
    },
    {
      "cell_type": "markdown",
      "metadata": {
        "id": "VX8_G6Z5Y6aC"
      },
      "source": [
        "We isolate the numerical columns by observing what each column means and the data type of each. Just because the data type is integer or float etc. does not necessarily mean that the column is numerical.(i.e. some product ID can be int but are still nominal variables)"
      ]
    },
    {
      "cell_type": "code",
      "metadata": {
        "colab": {
          "base_uri": "https://localhost:8080/",
          "height": 0
        },
        "id": "UthbYe4nCL0K",
        "outputId": "36314763-0c6b-4dbb-ae96-86b196b79279"
      },
      "source": [
        "# Isolate the numerical columns\n",
        "num_df = df_sales.select_dtypes(include=['float64', 'int64' ])\n",
        "\n",
        "# Display the head()\n",
        "num_df.head()"
      ],
      "execution_count": 22,
      "outputs": [
        {
          "output_type": "execute_result",
          "data": {
            "text/html": [
              "<div>\n",
              "<style scoped>\n",
              "    .dataframe tbody tr th:only-of-type {\n",
              "        vertical-align: middle;\n",
              "    }\n",
              "\n",
              "    .dataframe tbody tr th {\n",
              "        vertical-align: top;\n",
              "    }\n",
              "\n",
              "    .dataframe thead th {\n",
              "        text-align: right;\n",
              "    }\n",
              "</style>\n",
              "<table border=\"1\" class=\"dataframe\">\n",
              "  <thead>\n",
              "    <tr style=\"text-align: right;\">\n",
              "      <th></th>\n",
              "      <th>Item_Weight</th>\n",
              "      <th>Item_Visibility</th>\n",
              "      <th>Item_MRP</th>\n",
              "      <th>Outlet_Establishment_Year</th>\n",
              "      <th>Item_Outlet_Sales</th>\n",
              "    </tr>\n",
              "  </thead>\n",
              "  <tbody>\n",
              "    <tr>\n",
              "      <th>0</th>\n",
              "      <td>9.30</td>\n",
              "      <td>0.016047</td>\n",
              "      <td>249.8092</td>\n",
              "      <td>1999</td>\n",
              "      <td>3735.1380</td>\n",
              "    </tr>\n",
              "    <tr>\n",
              "      <th>1</th>\n",
              "      <td>5.92</td>\n",
              "      <td>0.019278</td>\n",
              "      <td>48.2692</td>\n",
              "      <td>2009</td>\n",
              "      <td>443.4228</td>\n",
              "    </tr>\n",
              "    <tr>\n",
              "      <th>2</th>\n",
              "      <td>17.50</td>\n",
              "      <td>0.016760</td>\n",
              "      <td>141.6180</td>\n",
              "      <td>1999</td>\n",
              "      <td>2097.2700</td>\n",
              "    </tr>\n",
              "    <tr>\n",
              "      <th>3</th>\n",
              "      <td>19.20</td>\n",
              "      <td>0.000000</td>\n",
              "      <td>182.0950</td>\n",
              "      <td>1998</td>\n",
              "      <td>732.3800</td>\n",
              "    </tr>\n",
              "    <tr>\n",
              "      <th>4</th>\n",
              "      <td>8.93</td>\n",
              "      <td>0.000000</td>\n",
              "      <td>53.8614</td>\n",
              "      <td>1987</td>\n",
              "      <td>994.7052</td>\n",
              "    </tr>\n",
              "  </tbody>\n",
              "</table>\n",
              "</div>"
            ],
            "text/plain": [
              "   Item_Weight  Item_Visibility  ...  Outlet_Establishment_Year  Item_Outlet_Sales\n",
              "0         9.30         0.016047  ...                       1999          3735.1380\n",
              "1         5.92         0.019278  ...                       2009           443.4228\n",
              "2        17.50         0.016760  ...                       1999          2097.2700\n",
              "3        19.20         0.000000  ...                       1998           732.3800\n",
              "4         8.93         0.000000  ...                       1987           994.7052\n",
              "\n",
              "[5 rows x 5 columns]"
            ]
          },
          "metadata": {},
          "execution_count": 22
        }
      ]
    },
    {
      "cell_type": "code",
      "metadata": {
        "colab": {
          "base_uri": "https://localhost:8080/"
        },
        "id": "3kuZUhHQCq4R",
        "outputId": "d63a9572-57f3-47d5-bdd6-0b1522f444a5"
      },
      "source": [
        "# Calculates the mean of each column\n",
        "num_df.mean()"
      ],
      "execution_count": 23,
      "outputs": [
        {
          "output_type": "execute_result",
          "data": {
            "text/plain": [
              "Item_Weight                    12.875420\n",
              "Item_Visibility                 0.066132\n",
              "Item_MRP                      140.992782\n",
              "Outlet_Establishment_Year    1997.831867\n",
              "Item_Outlet_Sales            2181.288914\n",
              "dtype: float64"
            ]
          },
          "metadata": {},
          "execution_count": 23
        }
      ]
    },
    {
      "cell_type": "code",
      "metadata": {
        "id": "aHAyKmK_CvFn",
        "colab": {
          "base_uri": "https://localhost:8080/"
        },
        "outputId": "e90c7851-eae5-4b1c-c49d-b2d65163b587"
      },
      "source": [
        "# Find the minimum value for each column\n",
        "num_df.min()"
      ],
      "execution_count": 24,
      "outputs": [
        {
          "output_type": "execute_result",
          "data": {
            "text/plain": [
              "Item_Weight                     4.555\n",
              "Item_Visibility                 0.000\n",
              "Item_MRP                       31.290\n",
              "Outlet_Establishment_Year    1985.000\n",
              "Item_Outlet_Sales              33.290\n",
              "dtype: float64"
            ]
          },
          "metadata": {},
          "execution_count": 24
        }
      ]
    },
    {
      "cell_type": "code",
      "metadata": {
        "id": "WIiIHgqtCzzI",
        "colab": {
          "base_uri": "https://localhost:8080/"
        },
        "outputId": "f730ea2a-6e56-4217-c969-4245ec43c9c2"
      },
      "source": [
        "# Find the maximum value for each column\n",
        "num_df.max()"
      ],
      "execution_count": 25,
      "outputs": [
        {
          "output_type": "execute_result",
          "data": {
            "text/plain": [
              "Item_Weight                     21.350000\n",
              "Item_Visibility                  0.328391\n",
              "Item_MRP                       266.888400\n",
              "Outlet_Establishment_Year     2009.000000\n",
              "Item_Outlet_Sales            13086.964800\n",
              "dtype: float64"
            ]
          },
          "metadata": {},
          "execution_count": 25
        }
      ]
    },
    {
      "cell_type": "markdown",
      "metadata": {
        "id": "crfxE7oh-L83"
      },
      "source": [
        "# Project 1 - Parts 3 and 4\n",
        "Exploratory and Explanatory Visualization\n",
        "\n",
        "Now that we have cleaned the data, we can proceed with analyzing it.\n",
        "\n"
      ]
    },
    {
      "cell_type": "code",
      "metadata": {
        "colab": {
          "base_uri": "https://localhost:8080/",
          "height": 313
        },
        "id": "YHfgUkI_-o4F",
        "outputId": "3d8ba840-c7bf-4281-bfa6-f01428310de9"
      },
      "source": [
        "df_sales.head()"
      ],
      "execution_count": 26,
      "outputs": [
        {
          "output_type": "execute_result",
          "data": {
            "text/html": [
              "<div>\n",
              "<style scoped>\n",
              "    .dataframe tbody tr th:only-of-type {\n",
              "        vertical-align: middle;\n",
              "    }\n",
              "\n",
              "    .dataframe tbody tr th {\n",
              "        vertical-align: top;\n",
              "    }\n",
              "\n",
              "    .dataframe thead th {\n",
              "        text-align: right;\n",
              "    }\n",
              "</style>\n",
              "<table border=\"1\" class=\"dataframe\">\n",
              "  <thead>\n",
              "    <tr style=\"text-align: right;\">\n",
              "      <th></th>\n",
              "      <th>Item_Identifier</th>\n",
              "      <th>Item_Weight</th>\n",
              "      <th>Item_Fat_Content</th>\n",
              "      <th>Item_Visibility</th>\n",
              "      <th>Item_Type</th>\n",
              "      <th>Item_MRP</th>\n",
              "      <th>Outlet_Identifier</th>\n",
              "      <th>Outlet_Establishment_Year</th>\n",
              "      <th>Outlet_Size</th>\n",
              "      <th>Outlet_Location_Type</th>\n",
              "      <th>Outlet_Type</th>\n",
              "      <th>Item_Outlet_Sales</th>\n",
              "    </tr>\n",
              "  </thead>\n",
              "  <tbody>\n",
              "    <tr>\n",
              "      <th>0</th>\n",
              "      <td>FDA15</td>\n",
              "      <td>9.30</td>\n",
              "      <td>Low Fat</td>\n",
              "      <td>0.016047</td>\n",
              "      <td>Dairy</td>\n",
              "      <td>249.8092</td>\n",
              "      <td>OUT049</td>\n",
              "      <td>1999</td>\n",
              "      <td>Medium</td>\n",
              "      <td>Tier 1</td>\n",
              "      <td>Supermarket Type1</td>\n",
              "      <td>3735.1380</td>\n",
              "    </tr>\n",
              "    <tr>\n",
              "      <th>1</th>\n",
              "      <td>DRC01</td>\n",
              "      <td>5.92</td>\n",
              "      <td>Regular</td>\n",
              "      <td>0.019278</td>\n",
              "      <td>Soft Drinks</td>\n",
              "      <td>48.2692</td>\n",
              "      <td>OUT018</td>\n",
              "      <td>2009</td>\n",
              "      <td>Medium</td>\n",
              "      <td>Tier 3</td>\n",
              "      <td>Supermarket Type2</td>\n",
              "      <td>443.4228</td>\n",
              "    </tr>\n",
              "    <tr>\n",
              "      <th>2</th>\n",
              "      <td>FDN15</td>\n",
              "      <td>17.50</td>\n",
              "      <td>Low Fat</td>\n",
              "      <td>0.016760</td>\n",
              "      <td>Meat</td>\n",
              "      <td>141.6180</td>\n",
              "      <td>OUT049</td>\n",
              "      <td>1999</td>\n",
              "      <td>Medium</td>\n",
              "      <td>Tier 1</td>\n",
              "      <td>Supermarket Type1</td>\n",
              "      <td>2097.2700</td>\n",
              "    </tr>\n",
              "    <tr>\n",
              "      <th>3</th>\n",
              "      <td>FDX07</td>\n",
              "      <td>19.20</td>\n",
              "      <td>Regular</td>\n",
              "      <td>0.000000</td>\n",
              "      <td>Fruits and Vegetables</td>\n",
              "      <td>182.0950</td>\n",
              "      <td>OUT010</td>\n",
              "      <td>1998</td>\n",
              "      <td>Medium</td>\n",
              "      <td>Tier 3</td>\n",
              "      <td>Grocery Store</td>\n",
              "      <td>732.3800</td>\n",
              "    </tr>\n",
              "    <tr>\n",
              "      <th>4</th>\n",
              "      <td>NCD19</td>\n",
              "      <td>8.93</td>\n",
              "      <td>Low Fat</td>\n",
              "      <td>0.000000</td>\n",
              "      <td>Household</td>\n",
              "      <td>53.8614</td>\n",
              "      <td>OUT013</td>\n",
              "      <td>1987</td>\n",
              "      <td>High</td>\n",
              "      <td>Tier 3</td>\n",
              "      <td>Supermarket Type1</td>\n",
              "      <td>994.7052</td>\n",
              "    </tr>\n",
              "  </tbody>\n",
              "</table>\n",
              "</div>"
            ],
            "text/plain": [
              "  Item_Identifier  Item_Weight  ...        Outlet_Type  Item_Outlet_Sales\n",
              "0           FDA15         9.30  ...  Supermarket Type1          3735.1380\n",
              "1           DRC01         5.92  ...  Supermarket Type2           443.4228\n",
              "2           FDN15        17.50  ...  Supermarket Type1          2097.2700\n",
              "3           FDX07        19.20  ...      Grocery Store           732.3800\n",
              "4           NCD19         8.93  ...  Supermarket Type1           994.7052\n",
              "\n",
              "[5 rows x 12 columns]"
            ]
          },
          "metadata": {},
          "execution_count": 26
        }
      ]
    },
    {
      "cell_type": "code",
      "metadata": {
        "id": "LqQQslWS-6nJ"
      },
      "source": [
        "# Imports the necessary libraries matplotlib, numpy, and seaborn \n",
        "import matplotlib.pyplot as plt\n",
        "import seaborn as sns\n",
        "import numpy as np"
      ],
      "execution_count": 27,
      "outputs": []
    },
    {
      "cell_type": "markdown",
      "metadata": {
        "id": "nGDUudptrj9j"
      },
      "source": [
        "## Item_Outlet_Sales of Low Fat and Regular Products\n",
        "Using Histogram"
      ]
    },
    {
      "cell_type": "code",
      "metadata": {
        "id": "hYCr9rrg-s08"
      },
      "source": [
        "# Isolate the Item_Outlet_Sales of Low Fat products \n",
        "low_fat = df_sales.loc[df_sales['Item_Fat_Content'] == 'Low Fat']\n",
        "low_fat_sales = low_fat['Item_Outlet_Sales']"
      ],
      "execution_count": 28,
      "outputs": []
    },
    {
      "cell_type": "code",
      "metadata": {
        "id": "F6Bdsj_kL3MS"
      },
      "source": [
        "# Isolate the Item_Outlet_Sales of Regular (fat) products \n",
        "regular = df_sales.loc[df_sales['Item_Fat_Content'] == 'Regular']\n",
        "regular_sales = regular['Item_Outlet_Sales']"
      ],
      "execution_count": 29,
      "outputs": []
    },
    {
      "cell_type": "code",
      "metadata": {
        "colab": {
          "base_uri": "https://localhost:8080/",
          "height": 0
        },
        "id": "TpCC12RMIkuR",
        "outputId": "db8428a9-db71-4c39-e3e6-91f6b1cf09b7"
      },
      "source": [
        "# Uses the seaborn style for the plot\n",
        "plt.style.use('seaborn')\n",
        "\n",
        "# Creates the two histograms of the low fat and regular\n",
        "# In the same figure\n",
        "plt.hist(regular_sales, alpha = 0.4, bins = 10, edgecolor = 'black', \n",
        "         color = 'red', label = 'Regular')\n",
        "plt.hist(low_fat_sales, alpha = 0.4, bins = 10, edgecolor = 'black', \n",
        "         color = 'blue', label = 'Low fat')\n",
        "\n",
        "# Grooms the plot\n",
        "plt.legend(title = 'Fat Content' )\n",
        "plt.xlabel('Item Sales [$]')\n",
        "plt.ylabel('Count')\n",
        "plt.title('Item Sales of Different fat Contents')"
      ],
      "execution_count": 30,
      "outputs": [
        {
          "output_type": "execute_result",
          "data": {
            "text/plain": [
              "Text(0.5, 1.0, 'Item Sales of Different fat Contents')"
            ]
          },
          "metadata": {},
          "execution_count": 30
        },
        {
          "output_type": "display_data",
          "data": {
            "image/png": "[encoded data removed]",
            "text/plain": [
              "<Figure size 576x396 with 1 Axes>"
            ]
          },
          "metadata": {}
        }
      ]
    },
    {
      "cell_type": "markdown",
      "metadata": {
        "id": "E3dSrznFru0v"
      },
      "source": [
        "We can see for the plot that for both Low Fat and Regular products, the distribution of their Item_Outlet_Sales regardless of the other parameters(i.e. Outlet size, tier, and location), almost follow a half normal distribution with the most frequent group being the lowest bin of around 1000 USD and the highest item sales being the least frequent. From this graph, it may seem that Low Fat products have higher sales, signified by their higher counts across all bins, compared to regular fat content products."
      ]
    },
    {
      "cell_type": "markdown",
      "metadata": {
        "id": "e_wFiquYsvZ9"
      },
      "source": [
        "## Item_Outlet_Sales of Low Fat and Regular Products\n",
        "Using Box Plot"
      ]
    },
    {
      "cell_type": "code",
      "metadata": {
        "colab": {
          "base_uri": "https://localhost:8080/",
          "height": 408
        },
        "id": "wMfR4Vf5s_is",
        "outputId": "be78bdde-9b14-4b41-96c8-3cb0f0bf3f10"
      },
      "source": [
        "# Initialize the figure\n",
        "plt.style.use('seaborn')\n",
        "fig, axes = plt.subplots(nrows = 1, ncols = 1, figsize = (8,5))\n",
        "\n",
        "# Create the plot in the figure\n",
        "boxplots = axes.boxplot([low_fat_sales, regular_sales],\n",
        "           notch = True,\n",
        "           labels=['Low Fat', 'Regular'],\n",
        "           widths = .7,\n",
        "           patch_artist=True,\n",
        "           medianprops = dict(linestyle='-', linewidth=2, color='Yellow'),\n",
        "           boxprops = dict(linestyle='--', linewidth=2, color='Black', facecolor = 'blue', alpha = .4),\n",
        "           showfliers = False # hide outliers\n",
        "          );\n",
        "\n",
        "# Groom thep lot\n",
        "boxplot1 = boxplots['boxes'][0]\n",
        "boxplot1.set_facecolor('red')\n",
        "plt.xlabel('Item Fat Content', fontsize = 20);\n",
        "plt.ylabel('Item Sales', fontsize = 20);\n",
        "plt.xticks(fontsize = 16);\n",
        "plt.yticks(fontsize = 16);"
      ],
      "execution_count": 42,
      "outputs": [
        {
          "output_type": "stream",
          "name": "stderr",
          "text": [
            "/usr/local/lib/python3.7/dist-packages/numpy/core/_asarray.py:83: VisibleDeprecationWarning: Creating an ndarray from ragged nested sequences (which is a list-or-tuple of lists-or-tuples-or ndarrays with different lengths or shapes) is deprecated. If you meant to do this, you must specify 'dtype=object' when creating the ndarray\n",
            "  return array(a, dtype, copy=False, order=order)\n"
          ]
        },
        {
          "output_type": "display_data",
          "data": {
            "image/png": "[encoded data removed]",
            "text/plain": [
              "<Figure size 576x360 with 1 Axes>"
            ]
          },
          "metadata": {}
        }
      ]
    },
    {
      "cell_type": "markdown",
      "metadata": {
        "id": "DDVISOd2uoHk"
      },
      "source": [
        "From a more statistical approach, we can see in this box plot that for the sales of both Regular and Low Fat products, there is no significant difference in their distributions. Having almost the same range and includes a large number of outliers. However, since there are more low fat products compared to regular products, we can still say that the combined sales of all low fat products exceeds that of the regular fat content products."
      ]
    },
    {
      "cell_type": "code",
      "metadata": {
        "colab": {
          "base_uri": "https://localhost:8080/"
        },
        "id": "xdNIOTwAvRj7",
        "outputId": "ee771f8f-d4e0-4834-e50f-2372e73d290c"
      },
      "source": [
        "# Shows the number of products that have Low and Regular fat content\n",
        "print('Low Fat', len(low_fat_sales))\n",
        "print('Regular', len(regular_sales))"
      ],
      "execution_count": 32,
      "outputs": [
        {
          "output_type": "stream",
          "name": "stdout",
          "text": [
            "Low Fat 5517\n",
            "Regular 3006\n"
          ]
        }
      ]
    },
    {
      "cell_type": "markdown",
      "metadata": {
        "id": "Ou-ruOkAwFrK"
      },
      "source": [
        "## Correlation to Sales\n",
        "Using Heat Maps"
      ]
    },
    {
      "cell_type": "markdown",
      "metadata": {
        "id": "hBpyvBeQ70kY"
      },
      "source": [
        "### Correlation of Numerical Columns"
      ]
    },
    {
      "cell_type": "code",
      "metadata": {
        "id": "IicS--Bdw2jC"
      },
      "source": [
        "# Calculate the correlation of numerical columns\n",
        "corr = df_sales.corr()"
      ],
      "execution_count": 33,
      "outputs": []
    },
    {
      "cell_type": "code",
      "metadata": {
        "colab": {
          "base_uri": "https://localhost:8080/",
          "height": 480
        },
        "id": "uEXHNJGGw6QZ",
        "outputId": "20839f37-304e-4148-905f-e8b91e26bad1"
      },
      "source": [
        "# Creates a heatmap from the correlation\n",
        "sns.heatmap(corr, cmap = 'Blues', annot = True)"
      ],
      "execution_count": 34,
      "outputs": [
        {
          "output_type": "execute_result",
          "data": {
            "text/plain": [
              "<matplotlib.axes._subplots.AxesSubplot at 0x7f0e63343110>"
            ]
          },
          "metadata": {},
          "execution_count": 34
        },
        {
          "output_type": "display_data",
          "data": {
            "image/png": "[encoded data removed]",
            "text/plain": [
              "<Figure size 576x396 with 2 Axes>"
            ]
          },
          "metadata": {}
        }
      ]
    },
    {
      "cell_type": "markdown",
      "metadata": {
        "id": "wDznoXsA76CO"
      },
      "source": [
        "From the heatmap, we can see that the numerical features of the data doesn't exhibit strong correlations, whether negative or positive. The strongest correlation is between the Item_MRP and Item_Outlet_Sales with a value of 0.57 which is only considered moderatley strong (positive). This means that high MRP values is moderately correlated (but not necessarily the cause) to higher Item_Outlet_Sales"
      ]
    },
    {
      "cell_type": "markdown",
      "metadata": {
        "id": "fzLMEPdD878I"
      },
      "source": [
        "### Visibility and Sales for Different Item Types\n",
        "We can also use heatmaps to visualize data other than the correlation coefficients of the numerical columns. In this part, the average sales for each item type considering their item visibility is extracted and displayed as a heatmap."
      ]
    },
    {
      "cell_type": "code",
      "metadata": {
        "id": "dNO0NCEozEG0"
      },
      "source": [
        "# Creates the bin borders for 10 bins from the minimum and maximum values of the visibility values\n",
        "visibility_bins = np.linspace(min(df_sales.Item_Visibility), max(df_sales.Item_Visibility), 11)\n",
        "\n",
        "# Calculate the center of each bin as the average of the borders\n",
        "ave_vis = visibility_bins[:-1] + visibility_bins[1:] / 2"
      ],
      "execution_count": 35,
      "outputs": []
    },
    {
      "cell_type": "code",
      "metadata": {
        "id": "wQNGzxER4B5q"
      },
      "source": [
        "# Obtain a list of the possible item types\n",
        "types = df_sales.Item_Type.drop_duplicates().tolist()"
      ],
      "execution_count": 36,
      "outputs": []
    },
    {
      "cell_type": "code",
      "metadata": {
        "colab": {
          "base_uri": "https://localhost:8080/",
          "height": 481
        },
        "id": "WRQ8FnX2zdGD",
        "outputId": "1158fcb4-f2f6-4d86-acdc-d70c7170bfa3"
      },
      "source": [
        "# Initialize a list\n",
        "sales = list([])\n",
        "\n",
        "# Get the average sales for each item type grouped by their item visibility\n",
        "for lower_index in range(len(visibility_bins)-1):\n",
        "  temp_df = df_sales.loc[(df_sales.Item_Visibility >= visibility_bins[lower_index]) &\n",
        "                         (df_sales.Item_Visibility < visibility_bins[lower_index+1])]\n",
        "  vis_sales = temp_df.groupby('Item_Type').mean('Item_Outlet_Sales').Item_Outlet_Sales.tolist()           \n",
        "  sales.append(vis_sales) # Store the data in the list              \n",
        "\n",
        "# Converts the list to a dataframe\n",
        "sales = pd.DataFrame(sales)\n",
        "\n",
        "# Fills missing values with 0\n",
        "sales.fillna(0, inplace = True)\n",
        "\n",
        "# Sets the column and row labels\n",
        "sales.columns = types # Columns\n",
        "sales.set_axis(np.round(ave_vis, 2), inplace = True) # Rows\n",
        "\n",
        "# Create a heatmap\n",
        "sns.heatmap(sales, cmap = 'Blues', cbar_kws={'label': 'Average Item Sales'})\n",
        "\n",
        "plt.xlabel('Item Type')\n",
        "plt.ylabel('Visibility')\n",
        "plt.title('Average Sales and Item Visibility for each Item Type')"
      ],
      "execution_count": 37,
      "outputs": [
        {
          "output_type": "execute_result",
          "data": {
            "text/plain": [
              "Text(0.5, 1.0, 'Average Sales and Item Visibility for each Item Type')"
            ]
          },
          "metadata": {},
          "execution_count": 37
        },
        {
          "output_type": "display_data",
          "data": {
            "image/png": "[encoded data removed]",
            "text/plain": [
              "<Figure size 576x396 with 2 Axes>"
            ]
          },
          "metadata": {}
        }
      ]
    },
    {
      "cell_type": "markdown",
      "metadata": {
        "id": "UwP4pdtE-jnE"
      },
      "source": [
        "From this heatmap, we can't see much pattern or correlations but it has 1 obvious feature. This shows us that for all item types, after a certain value of visibility, which is 0.31, the average item sales significantly drops, which is unusual since it is easy to assume that products that are more visible tends to be picked up by buyers. This can mean that for certain items, increasing its visibility further doesn't help in increasing its sales. This information can be used to maybe divert resources that is meant to be used in improving the item's visibility and instead use it in other things."
      ]
    },
    {
      "cell_type": "markdown",
      "metadata": {
        "id": "C_KvEPIh8IbL"
      },
      "source": [
        "### Average Item_Outlet_Sales per outlet_Location_Type\n"
      ]
    },
    {
      "cell_type": "code",
      "metadata": {
        "colab": {
          "base_uri": "https://localhost:8080/",
          "height": 481
        },
        "id": "YJtyEbJK8T4b",
        "outputId": "354f8067-6953-4c00-9a1b-5f8c19c6d150"
      },
      "source": [
        "# Create a boxplot\n",
        "df_sales.boxplot(column = 'Item_Outlet_Sales', by = 'Outlet_Location_Type',  showfliers=False)\n",
        "plt.xticks(rotation = 45)\n",
        "plt.xlabel('Outlet Location Type')\n",
        "plt.ylabel('Average Item Outlet Sales')\n",
        "plt.title('Average Item Outlet Sales of Different Outlet Location Types')"
      ],
      "execution_count": 53,
      "outputs": [
        {
          "output_type": "stream",
          "name": "stderr",
          "text": [
            "/usr/local/lib/python3.7/dist-packages/numpy/core/_asarray.py:83: VisibleDeprecationWarning: Creating an ndarray from ragged nested sequences (which is a list-or-tuple of lists-or-tuples-or ndarrays with different lengths or shapes) is deprecated. If you meant to do this, you must specify 'dtype=object' when creating the ndarray\n",
            "  return array(a, dtype, copy=False, order=order)\n"
          ]
        },
        {
          "output_type": "execute_result",
          "data": {
            "text/plain": [
              "Text(0.5, 1.0, 'Average Item Outlet Sales of Different Outlet Location Types')"
            ]
          },
          "metadata": {},
          "execution_count": 53
        },
        {
          "output_type": "display_data",
          "data": {
            "image/png": "[encoded data removed]",
            "text/plain": [
              "<Figure size 576x396 with 1 Axes>"
            ]
          },
          "metadata": {}
        }
      ]
    },
    {
      "cell_type": "markdown",
      "metadata": {
        "id": "Jm8LUUe_-BGT"
      },
      "source": [
        "The median for the average item outlest sales from different Outlet Location Type has no significant difference. if one were to consider opening a new outlet, this could suggest that any tier of location could be viable. This could also help avoid unnecessary expenses like if tier 1 is significantly more expensive than than tier 3 but will still produce the same sales."
      ]
    },
    {
      "cell_type": "code",
      "metadata": {
        "colab": {
          "base_uri": "https://localhost:8080/",
          "height": 524
        },
        "id": "tAQYisv0_dTx",
        "outputId": "5f06e222-6e39-49d7-e429-555dea99a564"
      },
      "source": [
        "# Create a boxplot\n",
        "df_sales.boxplot(column = 'Item_Outlet_Sales', by = 'Outlet_Type',  showfliers=False)\n",
        "plt.xticks(rotation = 45)\n",
        "plt.xlabel('Outlet Type')\n",
        "plt.ylabel('Average Item Outlet Sales')\n",
        "plt.title('Average Item Outlet Sales of Different Outlet Types')"
      ],
      "execution_count": 58,
      "outputs": [
        {
          "output_type": "stream",
          "name": "stderr",
          "text": [
            "/usr/local/lib/python3.7/dist-packages/numpy/core/_asarray.py:83: VisibleDeprecationWarning: Creating an ndarray from ragged nested sequences (which is a list-or-tuple of lists-or-tuples-or ndarrays with different lengths or shapes) is deprecated. If you meant to do this, you must specify 'dtype=object' when creating the ndarray\n",
            "  return array(a, dtype, copy=False, order=order)\n"
          ]
        },
        {
          "output_type": "execute_result",
          "data": {
            "text/plain": [
              "Text(0.5, 1.0, 'Average Item Outlet Sales of Different Outlet Types')"
            ]
          },
          "metadata": {},
          "execution_count": 58
        },
        {
          "output_type": "display_data",
          "data": {
            "image/png": "[encoded data removed]",
            "text/plain": [
              "<Figure size 576x396 with 1 Axes>"
            ]
          },
          "metadata": {}
        }
      ]
    },
    {
      "cell_type": "markdown",
      "metadata": {
        "id": "e4OMM-jjBbSg"
      },
      "source": [
        "As opposed to Outlet Location Type, the Outlet Type can produce a significant difference in the average item outlet sales with the Grocery Store producing the least average sales and a Supermarket Type 3 having the highest average outlet sales."
      ]
    }
  ]
}